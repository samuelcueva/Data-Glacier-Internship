{
 "cells": [
  {
   "cell_type": "markdown",
   "id": "a7972054",
   "metadata": {},
   "source": [
    "# Model Selection and Model Building"
   ]
  },
  {
   "cell_type": "markdown",
   "id": "c78a6cb3",
   "metadata": {},
   "source": [
    "After Exploratory Data Analysis and Feature Selection, the features that should be fed to the model are:    \n",
    "\n",
    "* Numerical:\n",
    "    * age \n",
    "    * duration \n",
    "    * campaign \n",
    "    * previous \n",
    "    * cons.price.idx \n",
    "    * cons.conf.idx\n",
    "\n",
    "* Categorical:\n",
    "    * marital\n",
    "    * default\n",
    "    * job\n",
    "    * contact\n",
    "    * education\n",
    "    * month\n",
    "    * poutcome\n",
    "    \n",
    "* Target:\n",
    "    * y : Imbalance of categorical target, This problem will be addressed when building the model using different methods:\n",
    "\n",
    "        * Oversampling minority class\n",
    "        * Alternative metric and/or loss function\n",
    "        \n",
    "## NOTE: The Feature Selection stage was carried out in the [EDA notebook](https://github.com/samuelcueva/Data-Glacier-Internship/blob/master/week%2010/EDA.ipynb)"
   ]
  },
  {
   "cell_type": "code",
   "execution_count": 1,
   "id": "1d469312",
   "metadata": {},
   "outputs": [],
   "source": [
    "import pandas as pd\n",
    "import numpy as np\n",
    "import sklearn\n",
    "import seaborn as sns\n",
    "import matplotlib.pyplot as plt\n",
    "from sklearn.compose import ColumnTransformer\n",
    "from sklearn.preprocessing import OneHotEncoder\n",
    "from sklearn.tree import DecisionTreeClassifier\n",
    "from sklearn import tree\n",
    "from sklearn.metrics import accuracy_score\n",
    "from sklearn.metrics import classification_report, confusion_matrix\n",
    "from sklearn.model_selection import train_test_split\n",
    "from imblearn.over_sampling import SMOTE\n",
    "from sklearn.ensemble import RandomForestClassifier\n",
    "from sklearn.metrics import plot_roc_curve\n",
    "\n",
    "\n",
    "%matplotlib inline"
   ]
  },
  {
   "cell_type": "code",
   "execution_count": 2,
   "id": "a3843cab",
   "metadata": {},
   "outputs": [],
   "source": [
    "import graphviz\n",
    "import pydotplus"
   ]
  },
  {
   "cell_type": "markdown",
   "id": "f737dada",
   "metadata": {},
   "source": [
    " ## Load Clean Dataset\n",
    " **This data set was pre-processed and serialized in EDA stage**"
   ]
  },
  {
   "cell_type": "code",
   "execution_count": 3,
   "id": "9b6b43d5",
   "metadata": {},
   "outputs": [
    {
     "data": {
      "text/html": [
       "<div>\n",
       "<style scoped>\n",
       "    .dataframe tbody tr th:only-of-type {\n",
       "        vertical-align: middle;\n",
       "    }\n",
       "\n",
       "    .dataframe tbody tr th {\n",
       "        vertical-align: top;\n",
       "    }\n",
       "\n",
       "    .dataframe thead th {\n",
       "        text-align: right;\n",
       "    }\n",
       "</style>\n",
       "<table border=\"1\" class=\"dataframe\">\n",
       "  <thead>\n",
       "    <tr style=\"text-align: right;\">\n",
       "      <th></th>\n",
       "      <th>age</th>\n",
       "      <th>job</th>\n",
       "      <th>marital</th>\n",
       "      <th>education</th>\n",
       "      <th>default</th>\n",
       "      <th>contact</th>\n",
       "      <th>month</th>\n",
       "      <th>duration</th>\n",
       "      <th>campaign</th>\n",
       "      <th>previous</th>\n",
       "      <th>poutcome</th>\n",
       "      <th>cons.price.idx</th>\n",
       "      <th>cons.conf.idx</th>\n",
       "      <th>y</th>\n",
       "    </tr>\n",
       "  </thead>\n",
       "  <tbody>\n",
       "    <tr>\n",
       "      <th>0</th>\n",
       "      <td>56</td>\n",
       "      <td>housemaid</td>\n",
       "      <td>married</td>\n",
       "      <td>basic.4y</td>\n",
       "      <td>no</td>\n",
       "      <td>telephone</td>\n",
       "      <td>may</td>\n",
       "      <td>5.568345</td>\n",
       "      <td>0.693147</td>\n",
       "      <td>0</td>\n",
       "      <td>nonexistent</td>\n",
       "      <td>93.994</td>\n",
       "      <td>-36.4</td>\n",
       "      <td>no</td>\n",
       "    </tr>\n",
       "    <tr>\n",
       "      <th>1</th>\n",
       "      <td>57</td>\n",
       "      <td>services</td>\n",
       "      <td>married</td>\n",
       "      <td>high.school</td>\n",
       "      <td>unknown</td>\n",
       "      <td>telephone</td>\n",
       "      <td>may</td>\n",
       "      <td>5.010635</td>\n",
       "      <td>0.693147</td>\n",
       "      <td>0</td>\n",
       "      <td>nonexistent</td>\n",
       "      <td>93.994</td>\n",
       "      <td>-36.4</td>\n",
       "      <td>no</td>\n",
       "    </tr>\n",
       "    <tr>\n",
       "      <th>2</th>\n",
       "      <td>37</td>\n",
       "      <td>services</td>\n",
       "      <td>married</td>\n",
       "      <td>high.school</td>\n",
       "      <td>no</td>\n",
       "      <td>telephone</td>\n",
       "      <td>may</td>\n",
       "      <td>5.424950</td>\n",
       "      <td>0.693147</td>\n",
       "      <td>0</td>\n",
       "      <td>nonexistent</td>\n",
       "      <td>93.994</td>\n",
       "      <td>-36.4</td>\n",
       "      <td>no</td>\n",
       "    </tr>\n",
       "    <tr>\n",
       "      <th>3</th>\n",
       "      <td>40</td>\n",
       "      <td>admin.</td>\n",
       "      <td>married</td>\n",
       "      <td>basic.6y</td>\n",
       "      <td>no</td>\n",
       "      <td>telephone</td>\n",
       "      <td>may</td>\n",
       "      <td>5.023881</td>\n",
       "      <td>0.693147</td>\n",
       "      <td>0</td>\n",
       "      <td>nonexistent</td>\n",
       "      <td>93.994</td>\n",
       "      <td>-36.4</td>\n",
       "      <td>no</td>\n",
       "    </tr>\n",
       "    <tr>\n",
       "      <th>4</th>\n",
       "      <td>56</td>\n",
       "      <td>services</td>\n",
       "      <td>married</td>\n",
       "      <td>high.school</td>\n",
       "      <td>no</td>\n",
       "      <td>telephone</td>\n",
       "      <td>may</td>\n",
       "      <td>5.730100</td>\n",
       "      <td>0.693147</td>\n",
       "      <td>0</td>\n",
       "      <td>nonexistent</td>\n",
       "      <td>93.994</td>\n",
       "      <td>-36.4</td>\n",
       "      <td>no</td>\n",
       "    </tr>\n",
       "    <tr>\n",
       "      <th>...</th>\n",
       "      <td>...</td>\n",
       "      <td>...</td>\n",
       "      <td>...</td>\n",
       "      <td>...</td>\n",
       "      <td>...</td>\n",
       "      <td>...</td>\n",
       "      <td>...</td>\n",
       "      <td>...</td>\n",
       "      <td>...</td>\n",
       "      <td>...</td>\n",
       "      <td>...</td>\n",
       "      <td>...</td>\n",
       "      <td>...</td>\n",
       "      <td>...</td>\n",
       "    </tr>\n",
       "    <tr>\n",
       "      <th>41169</th>\n",
       "      <td>37</td>\n",
       "      <td>admin.</td>\n",
       "      <td>married</td>\n",
       "      <td>university.degree</td>\n",
       "      <td>no</td>\n",
       "      <td>cellular</td>\n",
       "      <td>nov</td>\n",
       "      <td>5.641907</td>\n",
       "      <td>0.693147</td>\n",
       "      <td>0</td>\n",
       "      <td>nonexistent</td>\n",
       "      <td>94.767</td>\n",
       "      <td>-50.8</td>\n",
       "      <td>yes</td>\n",
       "    </tr>\n",
       "    <tr>\n",
       "      <th>41170</th>\n",
       "      <td>29</td>\n",
       "      <td>unemployed</td>\n",
       "      <td>single</td>\n",
       "      <td>basic.4y</td>\n",
       "      <td>no</td>\n",
       "      <td>cellular</td>\n",
       "      <td>nov</td>\n",
       "      <td>4.727388</td>\n",
       "      <td>0.693147</td>\n",
       "      <td>1</td>\n",
       "      <td>success</td>\n",
       "      <td>94.767</td>\n",
       "      <td>-50.8</td>\n",
       "      <td>no</td>\n",
       "    </tr>\n",
       "    <tr>\n",
       "      <th>41172</th>\n",
       "      <td>46</td>\n",
       "      <td>blue-collar</td>\n",
       "      <td>married</td>\n",
       "      <td>professional.course</td>\n",
       "      <td>no</td>\n",
       "      <td>cellular</td>\n",
       "      <td>nov</td>\n",
       "      <td>5.950643</td>\n",
       "      <td>0.693147</td>\n",
       "      <td>0</td>\n",
       "      <td>nonexistent</td>\n",
       "      <td>94.767</td>\n",
       "      <td>-50.8</td>\n",
       "      <td>no</td>\n",
       "    </tr>\n",
       "    <tr>\n",
       "      <th>41173</th>\n",
       "      <td>56</td>\n",
       "      <td>retired</td>\n",
       "      <td>married</td>\n",
       "      <td>university.degree</td>\n",
       "      <td>no</td>\n",
       "      <td>cellular</td>\n",
       "      <td>nov</td>\n",
       "      <td>5.247024</td>\n",
       "      <td>1.098612</td>\n",
       "      <td>0</td>\n",
       "      <td>nonexistent</td>\n",
       "      <td>94.767</td>\n",
       "      <td>-50.8</td>\n",
       "      <td>no</td>\n",
       "    </tr>\n",
       "    <tr>\n",
       "      <th>41174</th>\n",
       "      <td>44</td>\n",
       "      <td>technician</td>\n",
       "      <td>married</td>\n",
       "      <td>professional.course</td>\n",
       "      <td>no</td>\n",
       "      <td>cellular</td>\n",
       "      <td>nov</td>\n",
       "      <td>6.093570</td>\n",
       "      <td>0.693147</td>\n",
       "      <td>0</td>\n",
       "      <td>nonexistent</td>\n",
       "      <td>94.767</td>\n",
       "      <td>-50.8</td>\n",
       "      <td>yes</td>\n",
       "    </tr>\n",
       "  </tbody>\n",
       "</table>\n",
       "<p>38625 rows × 14 columns</p>\n",
       "</div>"
      ],
      "text/plain": [
       "       age          job  marital            education  default    contact  \\\n",
       "0       56    housemaid  married             basic.4y       no  telephone   \n",
       "1       57     services  married          high.school  unknown  telephone   \n",
       "2       37     services  married          high.school       no  telephone   \n",
       "3       40       admin.  married             basic.6y       no  telephone   \n",
       "4       56     services  married          high.school       no  telephone   \n",
       "...    ...          ...      ...                  ...      ...        ...   \n",
       "41169   37       admin.  married    university.degree       no   cellular   \n",
       "41170   29   unemployed   single             basic.4y       no   cellular   \n",
       "41172   46  blue-collar  married  professional.course       no   cellular   \n",
       "41173   56      retired  married    university.degree       no   cellular   \n",
       "41174   44   technician  married  professional.course       no   cellular   \n",
       "\n",
       "      month  duration  campaign  previous     poutcome  cons.price.idx  \\\n",
       "0       may  5.568345  0.693147         0  nonexistent          93.994   \n",
       "1       may  5.010635  0.693147         0  nonexistent          93.994   \n",
       "2       may  5.424950  0.693147         0  nonexistent          93.994   \n",
       "3       may  5.023881  0.693147         0  nonexistent          93.994   \n",
       "4       may  5.730100  0.693147         0  nonexistent          93.994   \n",
       "...     ...       ...       ...       ...          ...             ...   \n",
       "41169   nov  5.641907  0.693147         0  nonexistent          94.767   \n",
       "41170   nov  4.727388  0.693147         1      success          94.767   \n",
       "41172   nov  5.950643  0.693147         0  nonexistent          94.767   \n",
       "41173   nov  5.247024  1.098612         0  nonexistent          94.767   \n",
       "41174   nov  6.093570  0.693147         0  nonexistent          94.767   \n",
       "\n",
       "       cons.conf.idx    y  \n",
       "0              -36.4   no  \n",
       "1              -36.4   no  \n",
       "2              -36.4   no  \n",
       "3              -36.4   no  \n",
       "4              -36.4   no  \n",
       "...              ...  ...  \n",
       "41169          -50.8  yes  \n",
       "41170          -50.8   no  \n",
       "41172          -50.8   no  \n",
       "41173          -50.8   no  \n",
       "41174          -50.8  yes  \n",
       "\n",
       "[38625 rows x 14 columns]"
      ]
     },
     "execution_count": 3,
     "metadata": {},
     "output_type": "execute_result"
    }
   ],
   "source": [
    "dataset = pd.read_pickle('../week 10/clean_dataset.pkl')\n",
    "dataset"
   ]
  },
  {
   "cell_type": "code",
   "execution_count": 4,
   "id": "68662309",
   "metadata": {},
   "outputs": [
    {
     "data": {
      "text/plain": [
       "age                 54\n",
       "job                 12\n",
       "marital              3\n",
       "education            7\n",
       "default              2\n",
       "contact              2\n",
       "month               10\n",
       "duration          1207\n",
       "campaign            10\n",
       "previous             8\n",
       "poutcome             3\n",
       "cons.price.idx      26\n",
       "cons.conf.idx       26\n",
       "y                    2\n",
       "dtype: int64"
      ]
     },
     "execution_count": 4,
     "metadata": {},
     "output_type": "execute_result"
    }
   ],
   "source": [
    "dataset.nunique()"
   ]
  },
  {
   "cell_type": "markdown",
   "id": "d2de36e4",
   "metadata": {},
   "source": [
    "### Imbalanced Target\n",
    "As seen in EDA, the target has class imbalance."
   ]
  },
  {
   "cell_type": "code",
   "execution_count": 5,
   "id": "22c422e9",
   "metadata": {},
   "outputs": [
    {
     "data": {
      "image/png": "[encoded data removed]",
      "text/plain": [
       "<Figure size 720x360 with 1 Axes>"
      ]
     },
     "metadata": {
      "needs_background": "light"
     },
     "output_type": "display_data"
    }
   ],
   "source": [
    "fig, ax = plt.subplots(figsize=(10,5))\n",
    "sns.countplot(x='y',data=dataset,ax=ax)\n",
    "plt.show()"
   ]
  },
  {
   "cell_type": "code",
   "execution_count": 6,
   "id": "b484ff28",
   "metadata": {},
   "outputs": [
    {
     "data": {
      "text/plain": [
       "['default', 'education', 'y', 'contact', 'poutcome', 'month', 'job', 'marital']"
      ]
     },
     "execution_count": 6,
     "metadata": {},
     "output_type": "execute_result"
    }
   ],
   "source": [
    "cols = dataset.columns\n",
    "num_cols = dataset._get_numeric_data().columns\n",
    "numerical_att = list(num_cols) \n",
    "categorical_att = list(set(cols) - set(num_cols))\n",
    "categorical_att\n"
   ]
  },
  {
   "cell_type": "code",
   "execution_count": 7,
   "id": "e7aac6ca",
   "metadata": {},
   "outputs": [
    {
     "data": {
      "text/plain": [
       "['age', 'duration', 'campaign', 'previous', 'cons.price.idx', 'cons.conf.idx']"
      ]
     },
     "execution_count": 7,
     "metadata": {},
     "output_type": "execute_result"
    }
   ],
   "source": [
    "numerical_att"
   ]
  },
  {
   "cell_type": "markdown",
   "id": "2001aeac",
   "metadata": {},
   "source": [
    "## Feature Engineering"
   ]
  },
  {
   "cell_type": "markdown",
   "id": "3404587e",
   "metadata": {},
   "source": [
    "### Preprocessing and Tranformation for Training\n"
   ]
  },
  {
   "cell_type": "markdown",
   "id": "249fddc7",
   "metadata": {},
   "source": [
    "Categorical variables must be transformed into numeric variables to feed the machine learning model.\n"
   ]
  },
  {
   "cell_type": "code",
   "execution_count": 8,
   "id": "7783c53f",
   "metadata": {},
   "outputs": [
    {
     "data": {
      "text/plain": [
       "['default', 'education', 'contact', 'poutcome', 'month', 'job', 'marital']"
      ]
     },
     "execution_count": 8,
     "metadata": {},
     "output_type": "execute_result"
    }
   ],
   "source": [
    "categorical_att.remove('y')\n",
    "categorical_att"
   ]
  },
  {
   "cell_type": "markdown",
   "id": "686a7f4b",
   "metadata": {},
   "source": [
    "### One-Hot Encoding\n"
   ]
  },
  {
   "cell_type": "code",
   "execution_count": 9,
   "id": "cff63386",
   "metadata": {},
   "outputs": [],
   "source": [
    "# to apply One-Hot Encoding to each categorical attribute\n",
    "transformers = []\n",
    "for att in categorical_att:\n",
    "    transformers.append((att,OneHotEncoder(),[att]))"
   ]
  },
  {
   "cell_type": "code",
   "execution_count": 10,
   "id": "c85feb43",
   "metadata": {},
   "outputs": [
    {
     "data": {
      "text/plain": [
       "[('default', OneHotEncoder(), ['default']),\n",
       " ('education', OneHotEncoder(), ['education']),\n",
       " ('contact', OneHotEncoder(), ['contact']),\n",
       " ('poutcome', OneHotEncoder(), ['poutcome']),\n",
       " ('month', OneHotEncoder(), ['month']),\n",
       " ('job', OneHotEncoder(), ['job']),\n",
       " ('marital', OneHotEncoder(), ['marital'])]"
      ]
     },
     "execution_count": 10,
     "metadata": {},
     "output_type": "execute_result"
    }
   ],
   "source": [
    "transformers"
   ]
  },
  {
   "cell_type": "code",
   "execution_count": 11,
   "id": "40d24a66",
   "metadata": {},
   "outputs": [
    {
     "data": {
      "text/plain": [
       "array([[1.0, 0.0, 1.0, ..., 93.994, -36.4, 'no'],\n",
       "       [0.0, 1.0, 0.0, ..., 93.994, -36.4, 'no'],\n",
       "       [1.0, 0.0, 0.0, ..., 93.994, -36.4, 'no'],\n",
       "       ...,\n",
       "       [1.0, 0.0, 0.0, ..., 94.767, -50.8, 'no'],\n",
       "       [1.0, 0.0, 0.0, ..., 94.767, -50.8, 'no'],\n",
       "       [1.0, 0.0, 0.0, ..., 94.767, -50.8, 'yes']], dtype=object)"
      ]
     },
     "execution_count": 11,
     "metadata": {},
     "output_type": "execute_result"
    }
   ],
   "source": [
    "ct = ColumnTransformer(transformers=transformers,remainder='passthrough')\n",
    "\n",
    "dataset_ready = ct.fit_transform(dataset)\n",
    "dataset_ready"
   ]
  },
  {
   "cell_type": "code",
   "execution_count": 12,
   "id": "51fcc9b2",
   "metadata": {},
   "outputs": [
    {
     "data": {
      "text/plain": [
       "['default__x0_no',\n",
       " 'default__x0_unknown',\n",
       " 'education__x0_basic.4y',\n",
       " 'education__x0_basic.6y',\n",
       " 'education__x0_basic.9y',\n",
       " 'education__x0_high.school',\n",
       " 'education__x0_professional.course',\n",
       " 'education__x0_university.degree',\n",
       " 'education__x0_unknown',\n",
       " 'contact__x0_cellular',\n",
       " 'contact__x0_telephone',\n",
       " 'poutcome__x0_failure',\n",
       " 'poutcome__x0_nonexistent',\n",
       " 'poutcome__x0_success',\n",
       " 'month__x0_apr',\n",
       " 'month__x0_aug',\n",
       " 'month__x0_dec',\n",
       " 'month__x0_jul',\n",
       " 'month__x0_jun',\n",
       " 'month__x0_mar',\n",
       " 'month__x0_may',\n",
       " 'month__x0_nov',\n",
       " 'month__x0_oct',\n",
       " 'month__x0_sep',\n",
       " 'job__x0_admin.',\n",
       " 'job__x0_blue-collar',\n",
       " 'job__x0_entrepreneur',\n",
       " 'job__x0_housemaid',\n",
       " 'job__x0_management',\n",
       " 'job__x0_retired',\n",
       " 'job__x0_self-employed',\n",
       " 'job__x0_services',\n",
       " 'job__x0_student',\n",
       " 'job__x0_technician',\n",
       " 'job__x0_unemployed',\n",
       " 'job__x0_unknown',\n",
       " 'marital__x0_divorced',\n",
       " 'marital__x0_married',\n",
       " 'marital__x0_single',\n",
       " 'age',\n",
       " 'duration',\n",
       " 'campaign',\n",
       " 'previous',\n",
       " 'cons.price.idx',\n",
       " 'cons.conf.idx',\n",
       " 'y']"
      ]
     },
     "execution_count": 12,
     "metadata": {},
     "output_type": "execute_result"
    }
   ],
   "source": [
    "ct.get_feature_names()"
   ]
  },
  {
   "cell_type": "code",
   "execution_count": 13,
   "id": "f1e1682b",
   "metadata": {},
   "outputs": [
    {
     "data": {
      "text/plain": [
       "(38625, 46)"
      ]
     },
     "execution_count": 13,
     "metadata": {},
     "output_type": "execute_result"
    }
   ],
   "source": [
    "dataset_ready.shape"
   ]
  },
  {
   "cell_type": "code",
   "execution_count": 14,
   "id": "d79fc5e2",
   "metadata": {},
   "outputs": [
    {
     "data": {
      "text/plain": [
       "array([5.568344503761097, 5.0106352940962555, 5.424950017481403, ...,\n",
       "       5.950642552587727, 5.247024072160486, 6.093569770045136],\n",
       "      dtype=object)"
      ]
     },
     "execution_count": 14,
     "metadata": {},
     "output_type": "execute_result"
    }
   ],
   "source": [
    "dataset_ready[:,-6]"
   ]
  },
  {
   "cell_type": "code",
   "execution_count": 15,
   "id": "628f5726",
   "metadata": {},
   "outputs": [],
   "source": [
    "# Removing 'duration' attribute\n",
    "dataset_ready = np.delete(dataset_ready,-6,axis=1)"
   ]
  },
  {
   "cell_type": "code",
   "execution_count": 16,
   "id": "17fdc581",
   "metadata": {},
   "outputs": [
    {
     "data": {
      "text/plain": [
       "array([1.0, 0.0, 1.0, 0.0, 0.0, 0.0, 0.0, 0.0, 0.0, 0.0, 1.0, 0.0, 1.0,\n",
       "       0.0, 0.0, 0.0, 0.0, 0.0, 0.0, 0.0, 1.0, 0.0, 0.0, 0.0, 0.0, 0.0,\n",
       "       0.0, 1.0, 0.0, 0.0, 0.0, 0.0, 0.0, 0.0, 0.0, 0.0, 0.0, 1.0, 0.0,\n",
       "       56, 0.6931471805599453, 0, 93.994, -36.4, 'no'], dtype=object)"
      ]
     },
     "execution_count": 16,
     "metadata": {},
     "output_type": "execute_result"
    }
   ],
   "source": [
    "dataset_ready[0,:]"
   ]
  },
  {
   "cell_type": "markdown",
   "id": "492fdad8",
   "metadata": {},
   "source": [
    "### Transform target from categorical to numerical"
   ]
  },
  {
   "cell_type": "code",
   "execution_count": 17,
   "id": "534b9653",
   "metadata": {},
   "outputs": [
    {
     "data": {
      "text/plain": [
       "array([0, 0, 0, ..., 0, 0, 1], dtype=object)"
      ]
     },
     "execution_count": 17,
     "metadata": {},
     "output_type": "execute_result"
    }
   ],
   "source": [
    "dataset_ready[:,-1] = np.where(dataset_ready[:,-1]=='yes',1,0)\n",
    "dataset_ready[:,-1]"
   ]
  },
  {
   "cell_type": "code",
   "execution_count": 18,
   "id": "53caade1",
   "metadata": {},
   "outputs": [
    {
     "data": {
      "text/plain": [
       "array([[  1.   ,   0.   ,   1.   , ...,  93.994, -36.4  ,   0.   ],\n",
       "       [  0.   ,   1.   ,   0.   , ...,  93.994, -36.4  ,   0.   ],\n",
       "       [  1.   ,   0.   ,   0.   , ...,  93.994, -36.4  ,   0.   ],\n",
       "       ...,\n",
       "       [  1.   ,   0.   ,   0.   , ...,  94.767, -50.8  ,   0.   ],\n",
       "       [  1.   ,   0.   ,   0.   , ...,  94.767, -50.8  ,   0.   ],\n",
       "       [  1.   ,   0.   ,   0.   , ...,  94.767, -50.8  ,   1.   ]])"
      ]
     },
     "execution_count": 18,
     "metadata": {},
     "output_type": "execute_result"
    }
   ],
   "source": [
    "dataset_ready = dataset_ready.astype('float64')\n",
    "dataset_ready"
   ]
  },
  {
   "cell_type": "markdown",
   "id": "bf05e377",
   "metadata": {},
   "source": [
    "### Separate the attributes and the target"
   ]
  },
  {
   "cell_type": "code",
   "execution_count": 19,
   "id": "175901e0",
   "metadata": {},
   "outputs": [
    {
     "data": {
      "text/plain": [
       "array([[  1.   ,   0.   ,   1.   , ...,   0.   ,  93.994, -36.4  ],\n",
       "       [  0.   ,   1.   ,   0.   , ...,   0.   ,  93.994, -36.4  ],\n",
       "       [  1.   ,   0.   ,   0.   , ...,   0.   ,  93.994, -36.4  ],\n",
       "       ...,\n",
       "       [  1.   ,   0.   ,   0.   , ...,   0.   ,  94.767, -50.8  ],\n",
       "       [  1.   ,   0.   ,   0.   , ...,   0.   ,  94.767, -50.8  ],\n",
       "       [  1.   ,   0.   ,   0.   , ...,   0.   ,  94.767, -50.8  ]])"
      ]
     },
     "execution_count": 19,
     "metadata": {},
     "output_type": "execute_result"
    }
   ],
   "source": [
    "X = dataset_ready[:,:-1]\n",
    "X"
   ]
  },
  {
   "cell_type": "code",
   "execution_count": 20,
   "id": "cfdef5c3",
   "metadata": {},
   "outputs": [
    {
     "data": {
      "text/plain": [
       "array([0., 0., 0., ..., 0., 0., 1.])"
      ]
     },
     "execution_count": 20,
     "metadata": {},
     "output_type": "execute_result"
    }
   ],
   "source": [
    "y = dataset_ready[:,-1]\n",
    "y"
   ]
  },
  {
   "cell_type": "code",
   "execution_count": 21,
   "id": "37475e2e",
   "metadata": {},
   "outputs": [
    {
     "data": {
      "text/plain": [
       "((38625, 44), (38625,), (38625, 45))"
      ]
     },
     "execution_count": 21,
     "metadata": {},
     "output_type": "execute_result"
    }
   ],
   "source": [
    "X.shape, y.shape, dataset_ready.shape"
   ]
  },
  {
   "cell_type": "markdown",
   "id": "3aff1287",
   "metadata": {},
   "source": [
    "## Deal with data imbalance - SMOTE (Synthetic Minority Oversampling Technique)"
   ]
  },
  {
   "cell_type": "markdown",
   "id": "814884b1",
   "metadata": {},
   "source": [
    "### before SMOTE"
   ]
  },
  {
   "cell_type": "code",
   "execution_count": 22,
   "id": "e4596b2e",
   "metadata": {},
   "outputs": [
    {
     "name": "stdout",
     "output_type": "stream",
     "text": [
      "fraction of positive examples in training dataset: 10.72%\n"
     ]
    }
   ],
   "source": [
    "total_ones = y.sum()\n",
    "\n",
    "print('fraction of positive examples in training dataset: {:.2f}%'.format((total_ones/y.shape[0])*100))"
   ]
  },
  {
   "cell_type": "code",
   "execution_count": 23,
   "id": "ebf1608b",
   "metadata": {},
   "outputs": [
    {
     "data": {
      "text/plain": [
       "((38625, 44), (38625,))"
      ]
     },
     "execution_count": 23,
     "metadata": {},
     "output_type": "execute_result"
    }
   ],
   "source": [
    "X.shape,y.shape"
   ]
  },
  {
   "cell_type": "markdown",
   "id": "dc63feac",
   "metadata": {},
   "source": [
    "### SMOTE"
   ]
  },
  {
   "cell_type": "code",
   "execution_count": 24,
   "id": "f0110645",
   "metadata": {},
   "outputs": [
    {
     "name": "stdout",
     "output_type": "stream",
     "text": [
      "fraction of positive examples in training dataset: 33.33%\n"
     ]
    }
   ],
   "source": [
    "sm = SMOTE(sampling_strategy=0.5)\n",
    "\n",
    "X_over, y_over = sm.fit_resample(X,y)\n",
    "\n",
    "total_ones = y_over.sum()\n",
    "\n",
    "print('fraction of positive examples in training dataset: {:.2f}%'.format((total_ones/y_over.shape[0])*100))"
   ]
  },
  {
   "cell_type": "markdown",
   "id": "e877a512",
   "metadata": {},
   "source": [
    "### Split the dataset into Trainig and Test "
   ]
  },
  {
   "cell_type": "code",
   "execution_count": 25,
   "id": "a3ed89b1",
   "metadata": {},
   "outputs": [
    {
     "data": {
      "text/plain": [
       "((46551, 44), (5173, 44), (46551,), (5173,))"
      ]
     },
     "execution_count": 25,
     "metadata": {},
     "output_type": "execute_result"
    }
   ],
   "source": [
    "X_train, X_test, y_train, y_test = train_test_split(X_over, y_over, test_size=0.1)\n",
    "\n",
    "X_train.shape, X_test.shape, y_train.shape, y_test.shape"
   ]
  },
  {
   "cell_type": "markdown",
   "id": "1b12c5b1",
   "metadata": {},
   "source": [
    "## Build Machine Learning model"
   ]
  },
  {
   "cell_type": "markdown",
   "id": "c835d863",
   "metadata": {},
   "source": [
    "### Base Model: Decision Tree"
   ]
  },
  {
   "cell_type": "code",
   "execution_count": 26,
   "id": "ff173638",
   "metadata": {},
   "outputs": [
    {
     "data": {
      "text/plain": [
       "DecisionTreeClassifier(min_samples_split=100)"
      ]
     },
     "execution_count": 26,
     "metadata": {},
     "output_type": "execute_result"
    }
   ],
   "source": [
    "clf = DecisionTreeClassifier(min_samples_split=100)\n",
    "\n",
    "# Training\n",
    "clf.fit(X_train, y_train)\n"
   ]
  },
  {
   "cell_type": "markdown",
   "id": "0ab36df9",
   "metadata": {},
   "source": [
    "#### Metrics for Training set"
   ]
  },
  {
   "cell_type": "code",
   "execution_count": 27,
   "id": "9184a097",
   "metadata": {},
   "outputs": [
    {
     "data": {
      "text/plain": [
       "array([0., 0., 1., ..., 0., 0., 0.])"
      ]
     },
     "execution_count": 27,
     "metadata": {},
     "output_type": "execute_result"
    }
   ],
   "source": [
    "train_predictions = clf.predict(X_train)\n",
    "train_predictions"
   ]
  },
  {
   "cell_type": "markdown",
   "id": "a3fc3b68",
   "metadata": {},
   "source": [
    "#### Confusion matrix"
   ]
  },
  {
   "cell_type": "code",
   "execution_count": 28,
   "id": "38529f7d",
   "metadata": {},
   "outputs": [],
   "source": [
    "\n",
    "\n",
    "def plot_confusion_matrix(y_test,y_pred,labels):\n",
    "    cm = confusion_matrix(y_test,y_pred,labels=labels)\n",
    "    plt.figure(figsize=(8,8))\n",
    "    sns.heatmap(cm, annot=True, fmt=\"d\")\n",
    "    plt.title('Confusion matrix ')\n",
    "    plt.ylabel('True label')\n",
    "    plt.xlabel('Predictions')"
   ]
  },
  {
   "cell_type": "code",
   "execution_count": 29,
   "id": "1050d41b",
   "metadata": {},
   "outputs": [
    {
     "data": {
      "image/png": "[encoded data removed]",
      "text/plain": [
       "<Figure size 576x576 with 2 Axes>"
      ]
     },
     "metadata": {
      "needs_background": "light"
     },
     "output_type": "display_data"
    }
   ],
   "source": [
    "plot_confusion_matrix(y_train,train_predictions,labels=[0,1])"
   ]
  },
  {
   "cell_type": "code",
   "execution_count": 30,
   "id": "bdc67c68",
   "metadata": {},
   "outputs": [
    {
     "name": "stdout",
     "output_type": "stream",
     "text": [
      "              precision    recall  f1-score   support\n",
      "\n",
      "         0.0       0.90      0.97      0.93     31028\n",
      "         1.0       0.92      0.79      0.85     15523\n",
      "\n",
      "    accuracy                           0.91     46551\n",
      "   macro avg       0.91      0.88      0.89     46551\n",
      "weighted avg       0.91      0.91      0.90     46551\n",
      "\n"
     ]
    }
   ],
   "source": [
    "print(classification_report(y_train, train_predictions ))"
   ]
  },
  {
   "cell_type": "markdown",
   "id": "918ee87d",
   "metadata": {},
   "source": [
    "#### Metrics for Test set"
   ]
  },
  {
   "cell_type": "code",
   "execution_count": 31,
   "id": "2e76d1c8",
   "metadata": {},
   "outputs": [
    {
     "data": {
      "text/plain": [
       "array([0., 1., 0., ..., 1., 0., 1.])"
      ]
     },
     "execution_count": 31,
     "metadata": {},
     "output_type": "execute_result"
    }
   ],
   "source": [
    "test_predictions = clf.predict(X_test)\n",
    "test_predictions"
   ]
  },
  {
   "cell_type": "markdown",
   "id": "f40fb350",
   "metadata": {},
   "source": [
    "#### Confusion Matrix"
   ]
  },
  {
   "cell_type": "code",
   "execution_count": 32,
   "id": "b9c3dc54",
   "metadata": {},
   "outputs": [
    {
     "data": {
      "image/png": "[encoded data removed]",
      "text/plain": [
       "<Figure size 576x576 with 2 Axes>"
      ]
     },
     "metadata": {
      "needs_background": "light"
     },
     "output_type": "display_data"
    }
   ],
   "source": [
    "plot_confusion_matrix(y_test,test_predictions,labels=[0,1])"
   ]
  },
  {
   "cell_type": "code",
   "execution_count": 33,
   "id": "0639a53b",
   "metadata": {},
   "outputs": [
    {
     "name": "stdout",
     "output_type": "stream",
     "text": [
      "              precision    recall  f1-score   support\n",
      "\n",
      "         0.0       0.88      0.96      0.92      3455\n",
      "         1.0       0.90      0.74      0.81      1718\n",
      "\n",
      "    accuracy                           0.88      5173\n",
      "   macro avg       0.89      0.85      0.86      5173\n",
      "weighted avg       0.89      0.88      0.88      5173\n",
      "\n"
     ]
    }
   ],
   "source": [
    "print(classification_report(y_test, test_predictions ))"
   ]
  },
  {
   "cell_type": "code",
   "execution_count": 34,
   "id": "4116cec6",
   "metadata": {},
   "outputs": [
    {
     "data": {
      "image/png": "[encoded data removed]",
      "text/plain": [
       "<Figure size 504x360 with 1 Axes>"
      ]
     },
     "metadata": {
      "needs_background": "light"
     },
     "output_type": "display_data"
    }
   ],
   "source": [
    "fig,ax = plt.subplots(figsize=(7,5))\n",
    "plot_roc_curve(clf, X_test, y_test,ax=ax )\n",
    "ax.set_title('AUC - ROC')\n",
    "plt.show()"
   ]
  },
  {
   "cell_type": "markdown",
   "id": "12878574",
   "metadata": {},
   "source": [
    "### Linear Model: Logistic Regression"
   ]
  },
  {
   "cell_type": "code",
   "execution_count": 35,
   "id": "f3439dd1",
   "metadata": {},
   "outputs": [
    {
     "data": {
      "text/plain": [
       "LogisticRegression(max_iter=5000)"
      ]
     },
     "execution_count": 35,
     "metadata": {},
     "output_type": "execute_result"
    }
   ],
   "source": [
    "from sklearn.linear_model import LogisticRegression\n",
    "\n",
    "clf = LogisticRegression(solver ='lbfgs',max_iter=5000 )\n",
    "\n",
    "# Training\n",
    "clf.fit(X_train, y_train)"
   ]
  },
  {
   "cell_type": "code",
   "execution_count": 36,
   "id": "30ea6339",
   "metadata": {},
   "outputs": [
    {
     "data": {
      "text/plain": [
       "array([0., 1., 0., ..., 1., 0., 0.])"
      ]
     },
     "execution_count": 36,
     "metadata": {},
     "output_type": "execute_result"
    }
   ],
   "source": [
    "test_predictions = clf.predict(X_test)\n",
    "test_predictions"
   ]
  },
  {
   "cell_type": "code",
   "execution_count": 37,
   "id": "2035b191",
   "metadata": {},
   "outputs": [
    {
     "data": {
      "image/png": "[encoded data removed]",
      "text/plain": [
       "<Figure size 576x576 with 2 Axes>"
      ]
     },
     "metadata": {
      "needs_background": "light"
     },
     "output_type": "display_data"
    }
   ],
   "source": [
    "plot_confusion_matrix(y_test,test_predictions,labels=[0,1])"
   ]
  },
  {
   "cell_type": "code",
   "execution_count": 38,
   "id": "41488c20",
   "metadata": {},
   "outputs": [
    {
     "name": "stdout",
     "output_type": "stream",
     "text": [
      "              precision    recall  f1-score   support\n",
      "\n",
      "         0.0       0.77      0.93      0.85      3455\n",
      "         1.0       0.77      0.45      0.57      1718\n",
      "\n",
      "    accuracy                           0.77      5173\n",
      "   macro avg       0.77      0.69      0.71      5173\n",
      "weighted avg       0.77      0.77      0.75      5173\n",
      "\n"
     ]
    }
   ],
   "source": [
    "print(classification_report(y_test, test_predictions ))"
   ]
  },
  {
   "cell_type": "code",
   "execution_count": 39,
   "id": "597f5287",
   "metadata": {},
   "outputs": [
    {
     "data": {
      "image/png": "[encoded data removed]",
      "text/plain": [
       "<Figure size 504x360 with 1 Axes>"
      ]
     },
     "metadata": {
      "needs_background": "light"
     },
     "output_type": "display_data"
    }
   ],
   "source": [
    "fig,ax = plt.subplots(figsize=(7,5))\n",
    "plot_roc_curve(clf, X_test, y_test,ax=ax )\n",
    "ax.set_title('AUC - ROC')\n",
    "plt.show()"
   ]
  },
  {
   "cell_type": "markdown",
   "id": "64d613a4",
   "metadata": {},
   "source": [
    "### Ensemble model: Random Forest"
   ]
  },
  {
   "cell_type": "code",
   "execution_count": 40,
   "id": "521b0144",
   "metadata": {},
   "outputs": [
    {
     "data": {
      "text/plain": [
       "RandomForestClassifier(min_samples_split=200, n_estimators=2000)"
      ]
     },
     "execution_count": 40,
     "metadata": {},
     "output_type": "execute_result"
    }
   ],
   "source": [
    "clf = RandomForestClassifier(n_estimators=2000,min_samples_split=200)\n",
    "# Training\n",
    "clf.fit(X_train, y_train )"
   ]
  },
  {
   "cell_type": "code",
   "execution_count": 41,
   "id": "a4692092",
   "metadata": {},
   "outputs": [
    {
     "data": {
      "text/plain": [
       "array([0., 1., 0., ..., 1., 0., 1.])"
      ]
     },
     "execution_count": 41,
     "metadata": {},
     "output_type": "execute_result"
    }
   ],
   "source": [
    "test_predictions = clf.predict(X_test)\n",
    "test_predictions"
   ]
  },
  {
   "cell_type": "code",
   "execution_count": 42,
   "id": "c9e2b4c1",
   "metadata": {},
   "outputs": [
    {
     "data": {
      "image/png": "[encoded data removed]",
      "text/plain": [
       "<Figure size 576x576 with 2 Axes>"
      ]
     },
     "metadata": {
      "needs_background": "light"
     },
     "output_type": "display_data"
    }
   ],
   "source": [
    "plot_confusion_matrix(y_test,test_predictions,labels=[0,1])"
   ]
  },
  {
   "cell_type": "code",
   "execution_count": 43,
   "id": "7482fbd7",
   "metadata": {},
   "outputs": [
    {
     "name": "stdout",
     "output_type": "stream",
     "text": [
      "              precision    recall  f1-score   support\n",
      "\n",
      "         0.0       0.90      0.93      0.91      3455\n",
      "         1.0       0.85      0.79      0.82      1718\n",
      "\n",
      "    accuracy                           0.88      5173\n",
      "   macro avg       0.87      0.86      0.87      5173\n",
      "weighted avg       0.88      0.88      0.88      5173\n",
      "\n"
     ]
    }
   ],
   "source": [
    "print(classification_report(y_test, test_predictions ))"
   ]
  },
  {
   "cell_type": "code",
   "execution_count": 44,
   "id": "bbb027be",
   "metadata": {},
   "outputs": [
    {
     "data": {
      "image/png": "[encoded data removed]",
      "text/plain": [
       "<Figure size 504x360 with 1 Axes>"
      ]
     },
     "metadata": {
      "needs_background": "light"
     },
     "output_type": "display_data"
    }
   ],
   "source": [
    "fig,ax = plt.subplots(figsize=(7,5))\n",
    "plot_roc_curve(clf, X_test, y_test,ax=ax )\n",
    "ax.set_title('AUC - ROC')\n",
    "plt.show()"
   ]
  },
  {
   "cell_type": "markdown",
   "id": "99f4fd7a",
   "metadata": {},
   "source": [
    "### Boosting model: XGBoost"
   ]
  },
  {
   "cell_type": "code",
   "execution_count": 45,
   "id": "bed353b1",
   "metadata": {},
   "outputs": [],
   "source": [
    "import xgboost"
   ]
  },
  {
   "cell_type": "code",
   "execution_count": 46,
   "id": "64355c92",
   "metadata": {},
   "outputs": [],
   "source": [
    "clf = xgboost.XGBClassifier(n_estimators=1000,learning_rate=0.01,use_label_encoder=False)"
   ]
  },
  {
   "cell_type": "code",
   "execution_count": 47,
   "id": "51d10a17",
   "metadata": {},
   "outputs": [
    {
     "name": "stdout",
     "output_type": "stream",
     "text": [
      "[13:05:47] WARNING: ../src/learner.cc:1095: Starting in XGBoost 1.3.0, the default evaluation metric used with the objective 'binary:logistic' was changed from 'error' to 'logloss'. Explicitly set eval_metric if you'd like to restore the old behavior.\n"
     ]
    },
    {
     "data": {
      "text/plain": [
       "XGBClassifier(base_score=0.5, booster='gbtree', colsample_bylevel=1,\n",
       "              colsample_bynode=1, colsample_bytree=1, gamma=0, gpu_id=-1,\n",
       "              importance_type='gain', interaction_constraints='',\n",
       "              learning_rate=0.01, max_delta_step=0, max_depth=6,\n",
       "              min_child_weight=1, missing=nan, monotone_constraints='()',\n",
       "              n_estimators=1000, n_jobs=4, num_parallel_tree=1, random_state=0,\n",
       "              reg_alpha=0, reg_lambda=1, scale_pos_weight=1, subsample=1,\n",
       "              tree_method='exact', use_label_encoder=False,\n",
       "              validate_parameters=1, verbosity=None)"
      ]
     },
     "execution_count": 47,
     "metadata": {},
     "output_type": "execute_result"
    }
   ],
   "source": [
    "#Training\n",
    "clf.fit(X_train,y_train)"
   ]
  },
  {
   "cell_type": "code",
   "execution_count": 48,
   "id": "8fc9c915",
   "metadata": {},
   "outputs": [
    {
     "data": {
      "text/plain": [
       "array([0, 1, 0, ..., 1, 0, 0])"
      ]
     },
     "execution_count": 48,
     "metadata": {},
     "output_type": "execute_result"
    }
   ],
   "source": [
    "test_predictions = clf.predict(X_test)\n",
    "test_predictions"
   ]
  },
  {
   "cell_type": "code",
   "execution_count": 49,
   "id": "7ac3440a",
   "metadata": {},
   "outputs": [
    {
     "data": {
      "image/png": "[encoded data removed]",
      "text/plain": [
       "<Figure size 576x576 with 2 Axes>"
      ]
     },
     "metadata": {
      "needs_background": "light"
     },
     "output_type": "display_data"
    }
   ],
   "source": [
    "plot_confusion_matrix(y_test,test_predictions,labels=[0,1])"
   ]
  },
  {
   "cell_type": "code",
   "execution_count": 50,
   "id": "0f58a21b",
   "metadata": {},
   "outputs": [
    {
     "name": "stdout",
     "output_type": "stream",
     "text": [
      "              precision    recall  f1-score   support\n",
      "\n",
      "         0.0       0.90      0.97      0.93      3455\n",
      "         1.0       0.94      0.78      0.85      1718\n",
      "\n",
      "    accuracy                           0.91      5173\n",
      "   macro avg       0.92      0.87      0.89      5173\n",
      "weighted avg       0.91      0.91      0.91      5173\n",
      "\n"
     ]
    }
   ],
   "source": [
    "print(classification_report(y_test, test_predictions ))"
   ]
  },
  {
   "cell_type": "markdown",
   "id": "bdeaeea3",
   "metadata": {},
   "source": [
    "#### AUC -ROC "
   ]
  },
  {
   "cell_type": "code",
   "execution_count": 51,
   "id": "7374a9fc",
   "metadata": {},
   "outputs": [
    {
     "data": {
      "image/png": "[encoded data removed]",
      "text/plain": [
       "<Figure size 504x360 with 1 Axes>"
      ]
     },
     "metadata": {
      "needs_background": "light"
     },
     "output_type": "display_data"
    }
   ],
   "source": [
    "fig,ax = plt.subplots(figsize=(7,5))\n",
    "plot_roc_curve(clf, X_test, y_test,ax=ax )\n",
    "ax.set_title('AUC - ROC')\n",
    "plt.show()"
   ]
  },
  {
   "cell_type": "markdown",
   "id": "5b2d74dc",
   "metadata": {},
   "source": [
    "## Conclusions    \n",
    "\n",
    "The better model will be evaluated with the **f1-score** and **AUC-ROC** metrics in the test set:\n",
    "\n",
    "<table>\n",
    "  <tr>\n",
    "    <th>Model</th>\n",
    "    <th>f1-score</th>\n",
    "    <th>AUC-ROC</th>\n",
    "  </tr>\n",
    "  <tr>\n",
    "    <td>Decision Tree</td>\n",
    "    <td>0.81</td>\n",
    "    <td>0.92</td>\n",
    "  </tr>\n",
    "  <tr>\n",
    "    <td>Logistic Regression</td>\n",
    "    <td>0.57</td>\n",
    "    <td>0.78</td>\n",
    "  </tr>\n",
    "      <tr>\n",
    "    <td>Random Forest</td>\n",
    "    <td>0.82</td>\n",
    "    <td>0.94</td>\n",
    "  </tr>\n",
    "      <tr>\n",
    "    <td>XGBoost</td>\n",
    "    <td>0.85</td>\n",
    "    <td>0.94</td>\n",
    "  </tr>\n",
    "</table>\n",
    "\n",
    "Note: The **duration** attribute was not considered for these results"
   ]
  }
 ],
 "metadata": {
  "kernelspec": {
   "display_name": "Python 3",
   "language": "python",
   "name": "python3"
  },
  "language_info": {
   "codemirror_mode": {
    "name": "ipython",
    "version": 3
   },
   "file_extension": ".py",
   "mimetype": "text/x-python",
   "name": "python",
   "nbconvert_exporter": "python",
   "pygments_lexer": "ipython3",
   "version": "3.8.2"
  }
 },
 "nbformat": 4,
 "nbformat_minor": 5
}
